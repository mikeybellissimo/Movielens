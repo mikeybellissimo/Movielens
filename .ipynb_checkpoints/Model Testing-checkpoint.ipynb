{
 "cells": [
  {
   "cell_type": "markdown",
   "id": "b796b67b",
   "metadata": {},
   "source": [
    "# Testing different Variations on the Variational Autoencoder\n",
    "\n",
    "\n",
    "\n",
    "## Input info "
   ]
  },
  {
   "cell_type": "code",
   "execution_count": 1,
   "id": "979204e1",
   "metadata": {},
   "outputs": [
    {
     "name": "stderr",
     "output_type": "stream",
     "text": [
      "C:\\Users\\leuch\\AppData\\Local\\Temp\\ipykernel_1076\\2468113692.py:6: ParserWarning: Falling back to the 'python' engine because the 'c' engine does not support sep=None with delim_whitespace=False; you can avoid this warning by specifying engine='python'.\n",
      "  raw_data = pd.read_csv(\"./data/Movielens100/u.data\", sep = None, names=[\"userId\", \"movieId\", \"rating\", \"timestamp\"])\n"
     ]
    },
    {
     "data": {
      "text/plain": [
       "array([[-1.,  0.,  0., ...,  0.,  0.,  0.],\n",
       "       [ 0.,  0.,  0., ...,  0.,  0.,  0.],\n",
       "       [ 0.,  0.,  0., ...,  0.,  0.,  0.],\n",
       "       ...,\n",
       "       [ 0.,  0.,  0., ...,  0.,  0.,  0.],\n",
       "       [ 0.,  0.,  0., ...,  0.,  0.,  0.],\n",
       "       [ 0.,  0.,  0., ...,  0.,  0.,  0.]])"
      ]
     },
     "execution_count": 1,
     "metadata": {},
     "output_type": "execute_result"
    }
   ],
   "source": [
    "import pandas as pd\n",
    "import numpy as np\n",
    "import os\n",
    "os.environ['KMP_DUPLICATE_LIB_OK']='True'\n",
    "\n",
    "raw_data = pd.read_csv(\"./data/Movielens100/u.data\", sep = None, names=[\"userId\", \"movieId\", \"rating\", \"timestamp\"])\n",
    "raw_data = raw_data.loc[:, raw_data.columns != \"timestamp\"]\n",
    "#make indices start at 0\n",
    "raw_data[\"userId\"] -= 1\n",
    "raw_data[\"movieId\"] -= 1\n",
    "#make ratings center around 0\n",
    "raw_data[\"rating\"] -= 3\n",
    "\n",
    "# create (943, 1682) matrix of user ratings per movie\n",
    "user_ratings = pd.DataFrame(np.zeros((943,1682)))\n",
    "for i in raw_data.index:\n",
    "    user_ratings[raw_data[\"movieId\"][i]][raw_data[\"userId\"][i]] = raw_data[\"rating\"][i]\n",
    "user_ratings = user_ratings.to_numpy() \n",
    "np.random.shuffle(user_ratings)\n",
    "user_ratings"
   ]
  },
  {
   "cell_type": "markdown",
   "id": "a85f19ae",
   "metadata": {},
   "source": [
    "## Begin model and tuning of Hyperparameters"
   ]
  },
  {
   "cell_type": "code",
   "execution_count": 2,
   "id": "4eb094d8",
   "metadata": {},
   "outputs": [],
   "source": [
    "from torch.utils.data import Dataset, DataLoader\n",
    "from torch import nn \n",
    "import torch\n",
    "from sklearn.metrics import precision_recall_fscore_support\n",
    "device = \"cuda\"\n",
    "\n",
    "class MovielensDataset(Dataset):\n",
    "    def __init__(self, data, mask_magnitude):\n",
    "        self.data = data\n",
    "        # create a mask of 0 and 1 values where half are 0 and half are 1. \n",
    "        #The ratio of masked values is something that can and should be optimized. \n",
    "        self.random_mask = np.clip((np.random.randn(1682) + mask_magnitude).round(), a_max = 1, a_min = 0)\n",
    "        \n",
    "    def __len__(self):\n",
    "        return len(self.data)\n",
    "\n",
    "    def __getitem__(self, idx):\n",
    "        np.random.shuffle(self.random_mask)\n",
    "        return self.data[idx] * self.random_mask, self.data[idx]\n",
    "\n",
    "\n",
    "def train(dataloader, model,  optimizer, epoch):\n",
    "    size = len(dataloader.dataset)\n",
    "    model.train()\n",
    "    for batch, (X,y) in enumerate(dataloader):\n",
    "        X, y = X.to(device).to(torch.float32), y.to(device).to(torch.float32)\n",
    "        \n",
    "        #compute prediction error\n",
    "        pred, z, mu, std = model(X)\n",
    "        loss = model.vae_loss(pred, y, z, mu, std)\n",
    "        mse_loss = mse_loss_fcn(pred, y)\n",
    "        \n",
    "        #Backpropagation\n",
    "        optimizer.zero_grad()\n",
    "        loss.backward()\n",
    "        optimizer.step()\n",
    "        \n",
    "        if epoch % 100 == 0 and batch % 64 == 0:\n",
    "            loss , current = loss.item(), (batch+1) * len(X)\n",
    "            print(\"Epoch : \" + str(epoch))\n",
    "            print(f\"loss: {loss:>7f}\")\n",
    "            print(f\"MSE loss: {mse_loss:>7f}\")\n",
    "            losses.append(loss)\n",
    "            mse_losses.append(mse_loss.item())\n",
    "\n",
    "def test(dataloader, model, epoch):\n",
    "    size = len(dataloader.dataset)\n",
    "    num_batches= len(dataloader)\n",
    "    model.eval()\n",
    "    test_loss, correct, test_mse_loss = 0,0,0\n",
    "    with torch.no_grad():\n",
    "        for X, y in dataloader:\n",
    "            X, y = X.to(device).to(torch.float32), y.to(device).to(torch.float32)\n",
    "            \n",
    "            \n",
    "            pred, z, mu, std = model(X)\n",
    "            test_loss += model.vae_loss(pred, y, z, mu, std).item()\n",
    "            test_mse_loss += mse_loss_fcn(pred, y)\n",
    "    test_loss /= num_batches\n",
    "    test_mse_loss /= num_batches\n",
    "    if epoch % 100 ==0:\n",
    "        test_losses.append(test_loss)\n",
    "        #Come back and actually do the accuracy where it sees if it's at least on the right side of it or compute precision/recall or something like that\n",
    "        print(f\"Test Error: \\n Avg Loss : {test_loss:>8f} \")\n",
    "        print(f\" Test MSE loss: {test_mse_loss:>7f}\")\n",
    "        test_mse_losses.append(test_mse_loss.item())\n",
    "        model.test_mse = test_mse_loss.item()\n",
    "        \n",
    "        \n",
    "        "
   ]
  },
  {
   "cell_type": "markdown",
   "id": "8bf99dfa",
   "metadata": {},
   "source": [
    "## The actual search \n",
    "The following contains all of the logic you need to do to restart everything over so long as you've already loaded the ones above"
   ]
  },
  {
   "cell_type": "code",
   "execution_count": 3,
   "id": "cec19ee9",
   "metadata": {},
   "outputs": [
    {
     "name": "stdout",
     "output_type": "stream",
     "text": [
      "using hyperparameters : 0 , 0\n",
      "Epoch : 0\n",
      "loss: 6388.104492\n",
      "MSE loss: 0.638759\n",
      "Test Error: \n",
      " Avg Loss : 1077.606567 \n",
      " Test MSE loss: 0.107501\n",
      "New best using hyper parameters : 1.3 ,0 ,0\n",
      "Epoch : 100\n",
      "loss: 504.735596\n",
      "MSE loss: 0.045204\n",
      "Test Error: \n",
      " Avg Loss : 702.756958 \n",
      " Test MSE loss: 0.067360\n",
      "New best using hyper parameters : 1.3 ,0 ,0\n",
      "Epoch : 200\n",
      "loss: 352.521362\n",
      "MSE loss: 0.028656\n",
      "Test Error: \n",
      " Avg Loss : 525.477966 \n",
      " Test MSE loss: 0.073684\n",
      "Epoch : 300\n",
      "loss: 263.015656\n",
      "MSE loss: 0.024433\n",
      "Test Error: \n",
      " Avg Loss : 632.693054 \n",
      " Test MSE loss: 0.078109\n",
      "Epoch : 400\n",
      "loss: 214.426147\n",
      "MSE loss: 0.016628\n",
      "Test Error: \n",
      " Avg Loss : 655.887512 \n",
      " Test MSE loss: 0.064169\n",
      "New best using hyper parameters : 1.3 ,0 ,0\n",
      "Epoch : 500\n",
      "loss: 198.142731\n",
      "MSE loss: 0.014662\n",
      "Test Error: \n",
      " Avg Loss : 732.470581 \n",
      " Test MSE loss: 0.070677\n",
      "Epoch : 600\n",
      "loss: 141.072800\n",
      "MSE loss: 0.013079\n",
      "Test Error: \n",
      " Avg Loss : 645.163208 \n",
      " Test MSE loss: 0.064347\n",
      "Epoch : 700\n",
      "loss: 127.087906\n",
      "MSE loss: 0.008957\n",
      "Test Error: \n",
      " Avg Loss : 650.996643 \n",
      " Test MSE loss: 0.064602\n",
      "Epoch : 800\n",
      "loss: 91.014938\n",
      "MSE loss: 0.009705\n",
      "Test Error: \n",
      " Avg Loss : 674.491394 \n",
      " Test MSE loss: 0.064544\n",
      "Epoch : 900\n",
      "loss: 428.451294\n",
      "MSE loss: 0.049873\n",
      "Test Error: \n",
      " Avg Loss : 681.862244 \n",
      " Test MSE loss: 0.067320\n",
      "Epoch : 1000\n",
      "loss: 174.736603\n",
      "MSE loss: 0.007927\n",
      "Test Error: \n",
      " Avg Loss : 673.147888 \n",
      " Test MSE loss: 0.065674\n",
      "Epoch : 1100\n",
      "loss: 82.111710\n",
      "MSE loss: 0.006684\n",
      "Test Error: \n",
      " Avg Loss : 684.000427 \n",
      " Test MSE loss: 0.065843\n",
      "Epoch : 1200\n",
      "loss: 84.972031\n",
      "MSE loss: 0.006650\n",
      "Test Error: \n",
      " Avg Loss : 673.045593 \n",
      " Test MSE loss: 0.065496\n",
      "Epoch : 1300\n",
      "loss: 104.694733\n",
      "MSE loss: 0.005798\n",
      "Test Error: \n",
      " Avg Loss : 689.568054 \n",
      " Test MSE loss: 0.066609\n",
      "Epoch : 1400\n",
      "loss: 104.211639\n",
      "MSE loss: 0.007689\n",
      "Test Error: \n",
      " Avg Loss : 705.300049 \n",
      " Test MSE loss: 0.068073\n",
      "Epoch : 1500\n",
      "loss: 54.869560\n",
      "MSE loss: 0.005497\n",
      "Test Error: \n",
      " Avg Loss : 711.129211 \n",
      " Test MSE loss: 0.068802\n",
      "Epoch : 1600\n",
      "loss: 97.837471\n",
      "MSE loss: 0.006196\n",
      "Test Error: \n",
      " Avg Loss : 710.465210 \n",
      " Test MSE loss: 0.066762\n",
      "Epoch : 1700\n",
      "loss: 34.682827\n",
      "MSE loss: 0.004158\n",
      "Test Error: \n",
      " Avg Loss : 680.389771 \n",
      " Test MSE loss: 0.066931\n",
      "Epoch : 1800\n",
      "loss: 14.495935\n",
      "MSE loss: 0.004673\n",
      "Test Error: \n",
      " Avg Loss : 687.362793 \n",
      " Test MSE loss: 0.068161\n",
      "Epoch : 1900\n",
      "loss: 107.703979\n",
      "MSE loss: 0.006334\n",
      "Test Error: \n",
      " Avg Loss : 756.446228 \n",
      " Test MSE loss: 0.073156\n"
     ]
    }
   ],
   "source": [
    "from VAEMSE import VAEMSE\n",
    "\n",
    "epochs = 2000\n",
    "lowest_test_mse_score = 1000\n",
    "mask_magnitude = 1.3\n",
    "#Search \n",
    "l2_weight = 0\n",
    "dropout_rate = 0\n",
    "random_mask = np.clip((np.random.randn(1682) + mask_magnitude).round(), a_max = 1, a_min = 0)\n",
    "print(\"using hyperparameters : \" + str( l2_weight) + \" , \" + str(dropout_rate))\n",
    "train_dataset = MovielensDataset(user_ratings[:843], mask_magnitude)\n",
    "test_dataset = MovielensDataset(user_ratings[843:], mask_magnitude)\n",
    "train_dataloader = DataLoader(train_dataset, batch_size=64, shuffle=True)\n",
    "test_dataloader = DataLoader(test_dataset, batch_size=100, shuffle=True)\n",
    "\n",
    "\n",
    "losses = []\n",
    "mse_losses = []    \n",
    "test_losses = []\n",
    "test_mse_losses = []\n",
    "\n",
    "model = VAEMSE(dropout_rate = dropout_rate).to(device)\n",
    "optimizer = torch.optim.Adam(model.parameters(), lr = 1e-4, weight_decay = l2_weight)\n",
    "mse_loss_fcn = nn.MSELoss()\n",
    "\n",
    "for t in range(epochs):\n",
    "    train(train_dataloader, model,  optimizer, t)\n",
    "    test(test_dataloader, model, t )\n",
    "    if t % 100 == 0:\n",
    "        if model.test_mse < lowest_test_mse_score:\n",
    "            lowest_test_mse_score = model.test_mse\n",
    "            torch.save(model.state_dict(), \"./models/best.pth\")\n",
    "            print(\"New best using hyper parameters : \" + str(mask_magnitude) + \" ,\" + str(l2_weight) + \" ,\" + str(dropout_rate)  )"
   ]
  },
  {
   "cell_type": "code",
   "execution_count": 4,
   "id": "37caa81b",
   "metadata": {},
   "outputs": [
    {
     "data": {
      "text/plain": [
       "[<matplotlib.lines.Line2D at 0x177fd5f4640>]"
      ]
     },
     "execution_count": 4,
     "metadata": {},
     "output_type": "execute_result"
    },
    {
     "data": {
      "image/png": "[encoded data removed]",
      "text/plain": [
       "<Figure size 640x480 with 1 Axes>"
      ]
     },
     "metadata": {},
     "output_type": "display_data"
    }
   ],
   "source": [
    "import matplotlib.pyplot as plt\n",
    "plt.plot(np.arange(len(losses)) * 100, losses)\n",
    "plt.plot(np.arange(len(test_losses)) * 100, test_losses)"
   ]
  },
  {
   "cell_type": "code",
   "execution_count": 5,
   "id": "91332c3d",
   "metadata": {},
   "outputs": [
    {
     "data": {
      "text/plain": [
       "[<matplotlib.lines.Line2D at 0x17814037370>]"
      ]
     },
     "execution_count": 5,
     "metadata": {},
     "output_type": "execute_result"
    },
    {
     "data": {
      "image/png": "[encoded data removed]",
      "text/plain": [
       "<Figure size 640x480 with 1 Axes>"
      ]
     },
     "metadata": {},
     "output_type": "display_data"
    }
   ],
   "source": [
    "plt.plot(np.arange(len(mse_losses)) * 100, np.sqrt(np.array(mse_losses)))\n",
    "plt.plot(np.arange(len(test_mse_losses)) * 100, np.sqrt(np.array(test_mse_losses)))"
   ]
  },
  {
   "cell_type": "markdown",
   "id": "f6d7e865",
   "metadata": {},
   "source": [
    "# Calculate Precision and Recall"
   ]
  },
  {
   "cell_type": "code",
   "execution_count": 11,
   "id": "bbe48a7b",
   "metadata": {},
   "outputs": [
    {
     "data": {
      "text/plain": [
       "(0.5735211267605633, 0.5884393063583815, 0.5808844507845934, None)"
      ]
     },
     "execution_count": 11,
     "metadata": {},
     "output_type": "execute_result"
    }
   ],
   "source": [
    "model = VAEMSE(dropout_rate = 0).to(device)\n",
    "model.load_state_dict(torch.load(\"./models/best.pth\"))\n",
    "model.eval()\n",
    "relevance_labels = user_ratings[843:] > 0.5\n",
    "#To evaluate for comparison to other papers we mask by setting 20% of labels to false \n",
    "test_inputs = np.clip((np.random.randn(1682) + 1.35).round(), a_max = 1, a_min = 0) * user_ratings[843:]\n",
    "test_preds = model(torch.tensor(test_inputs).to(\"cuda\").to(torch.float32))[0] > .4\n",
    "\n",
    "precision_recall_fscore_support(relevance_labels.flatten(), test_preds.cpu().flatten(), average=\"binary\")"
   ]
  },
  {
   "cell_type": "markdown",
   "id": "9a9cf130",
   "metadata": {},
   "source": [
    "# Calculate RMSE"
   ]
  },
  {
   "cell_type": "code",
   "execution_count": 13,
   "id": "549cf4f1",
   "metadata": {
    "scrolled": true
   },
   "outputs": [
    {
     "data": {
      "text/plain": [
       "tensor(1.0156, device='cuda:0', dtype=torch.float64, grad_fn=<SqrtBackward0>)"
      ]
     },
     "execution_count": 13,
     "metadata": {},
     "output_type": "execute_result"
    }
   ],
   "source": [
    "nonzero_indices = torch.tensor(test_inputs).to(\"cuda\").nonzero().split( 1, dim=1)\n",
    "torch.sqrt(((torch.tensor(test_inputs).to(\"cuda\")[nonzero_indices] - model(torch.tensor(test_inputs).to(\"cuda\").to(torch.float32))[0][nonzero_indices]) ** 2).mean())"
   ]
  },
  {
   "cell_type": "markdown",
   "id": "648bdefd",
   "metadata": {},
   "source": [
    "## Conclusion:\n",
    "The result is that I was, in fact, mistaken and that the MSE was less suited to the task than the usual Gaussian Likelihood"
   ]
  },
  {
   "cell_type": "code",
   "execution_count": null,
   "id": "22542451",
   "metadata": {},
   "outputs": [],
   "source": [
    "import matplotlib.pyplot as plt\n",
    "plt.hist(model(torch.tensor(test_inputs).to(\"cuda\").to(torch.float32))[0].cpu().detach().numpy().flatten(), bins = [-2.1, -1.9, -1.1, -0.9, -.1, 0, .1, .9, 1.1, 1.9, 2.1])"
   ]
  },
  {
   "cell_type": "code",
   "execution_count": null,
   "id": "7e7aa2d8",
   "metadata": {},
   "outputs": [],
   "source": [
    "plt.hist(test_inputs.flatten(), bins = [-2.1, -1.9, -1.1, -0.9, -.1, 0, .1, .9, 1.1, 1.9, 2.1])"
   ]
  },
  {
   "cell_type": "code",
   "execution_count": null,
   "id": "c6c95734",
   "metadata": {},
   "outputs": [],
   "source": []
  },
  {
   "cell_type": "code",
   "execution_count": null,
   "id": "7fc15f2a",
   "metadata": {},
   "outputs": [],
   "source": []
  }
 ],
 "metadata": {
  "kernelspec": {
   "display_name": "Python 3 (ipykernel)",
   "language": "python",
   "name": "python3"
  },
  "language_info": {
   "codemirror_mode": {
    "name": "ipython",
    "version": 3
   },
   "file_extension": ".py",
   "mimetype": "text/x-python",
   "name": "python",
   "nbconvert_exporter": "python",
   "pygments_lexer": "ipython3",
   "version": "3.9.7"
  }
 },
 "nbformat": 4,
 "nbformat_minor": 5
}

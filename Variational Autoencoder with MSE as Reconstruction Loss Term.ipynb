{
 "cells": [
  {
   "cell_type": "markdown",
   "id": "b796b67b",
   "metadata": {},
   "source": [
    "# Variational Autoencoder with MSE as Reconstruction Loss Term\n",
    "\n",
    "The motivating principle behind this experiment is that, while mathematically rigorous, the reconstruction likelihood loss function might be overly complex for the actual performance of VAE's for certain tasks. The true power of VAE's is their power to drive meaningful latent spaces by spreading the values out for a given input and in that way, the spaces in between each memorized point will be meaningful. \n",
    "\n",
    "This experiment hypothesizes that the VAE will perform better with a good ole fashioned MSE loss function as a reconstruction term so long as we keep the KL Divergence to drive the distribution of the latent layer to a standard normal. \n",
    "\n",
    "\n",
    "## Input info "
   ]
  },
  {
   "cell_type": "code",
   "execution_count": 135,
   "id": "979204e1",
   "metadata": {},
   "outputs": [
    {
     "name": "stderr",
     "output_type": "stream",
     "text": [
      "C:\\Users\\leuch\\AppData\\Local\\Temp\\ipykernel_2604\\2468113692.py:6: ParserWarning: Falling back to the 'python' engine because the 'c' engine does not support sep=None with delim_whitespace=False; you can avoid this warning by specifying engine='python'.\n",
      "  raw_data = pd.read_csv(\"./data/Movielens100/u.data\", sep = None, names=[\"userId\", \"movieId\", \"rating\", \"timestamp\"])\n"
     ]
    },
    {
     "data": {
      "text/plain": [
       "array([[0., 0., 0., ..., 0., 0., 0.],\n",
       "       [0., 0., 0., ..., 0., 0., 0.],\n",
       "       [0., 0., 0., ..., 0., 0., 0.],\n",
       "       ...,\n",
       "       [0., 0., 0., ..., 0., 0., 0.],\n",
       "       [0., 0., 0., ..., 0., 0., 0.],\n",
       "       [0., 0., 0., ..., 0., 0., 0.]])"
      ]
     },
     "execution_count": 135,
     "metadata": {},
     "output_type": "execute_result"
    }
   ],
   "source": [
    "import pandas as pd\n",
    "import numpy as np\n",
    "import os\n",
    "os.environ['KMP_DUPLICATE_LIB_OK']='True'\n",
    "\n",
    "raw_data = pd.read_csv(\"./data/Movielens100/u.data\", sep = None, names=[\"userId\", \"movieId\", \"rating\", \"timestamp\"])\n",
    "raw_data = raw_data.loc[:, raw_data.columns != \"timestamp\"]\n",
    "#make indices start at 0\n",
    "raw_data[\"userId\"] -= 1\n",
    "raw_data[\"movieId\"] -= 1\n",
    "#make ratings center around 0\n",
    "raw_data[\"rating\"] -= 3\n",
    "\n",
    "# create (943, 1682) matrix of user ratings per movie\n",
    "user_ratings = pd.DataFrame(np.zeros((943,1682)))\n",
    "for i in raw_data.index:\n",
    "    user_ratings[raw_data[\"movieId\"][i]][raw_data[\"userId\"][i]] = raw_data[\"rating\"][i]\n",
    "user_ratings = user_ratings.to_numpy() \n",
    "np.random.shuffle(user_ratings)\n",
    "user_ratings"
   ]
  },
  {
   "cell_type": "markdown",
   "id": "a85f19ae",
   "metadata": {},
   "source": [
    "## Begin model and tuning of Hyperparameters"
   ]
  },
  {
   "cell_type": "code",
   "execution_count": 147,
   "id": "4eb094d8",
   "metadata": {},
   "outputs": [],
   "source": [
    "from torch.utils.data import Dataset, DataLoader\n",
    "from torch import nn \n",
    "import torch\n",
    "from sklearn.metrics import precision_recall_fscore_support\n",
    "device = \"cuda\"\n",
    "\n",
    "class MovielensDataset(Dataset):\n",
    "    def __init__(self, data, mask_magnitude):\n",
    "        self.data = data\n",
    "        # create a mask of 0 and 1 values where half are 0 and half are 1. \n",
    "        #The ratio of masked values is something that can and should be optimized. \n",
    "        self.random_mask = np.clip((np.random.randn(1682) + mask_magnitude).round(), a_max = 1, a_min = 0)\n",
    "        \n",
    "    def __len__(self):\n",
    "        return len(self.data)\n",
    "\n",
    "    def __getitem__(self, idx):\n",
    "        np.random.shuffle(self.random_mask)\n",
    "        return self.data[idx] * self.random_mask, self.data[idx]\n",
    "\n",
    "\n",
    "class VariationalAutoEncoder(nn.Module):\n",
    "    def __init__(self, dropout_rate):\n",
    "        super().__init__()\n",
    "        self.encoder = nn.Sequential(\n",
    "            #Encoder\n",
    "            nn.Linear(1682, 1024),\n",
    "            nn.LeakyReLU(),\n",
    "            nn.Dropout(dropout_rate),\n",
    "            nn.Linear(1024,1024),\n",
    "            nn.LeakyReLU(),\n",
    "            nn.Dropout(dropout_rate),\n",
    "        )\n",
    "        self.decoder = nn.Sequential(\n",
    "            #Decoder\n",
    "            nn.Linear(512,1024),\n",
    "            nn.LeakyReLU(),\n",
    "            nn.Dropout(dropout_rate),\n",
    "            nn.Linear(1024,1682),\n",
    "            nn.Tanh()\n",
    "        )\n",
    "        # distribution parameters\n",
    "        self.fc_mu = nn.Linear(1024, 512)\n",
    "        self.fc_var = nn.Linear(1024, 512)\n",
    "        self.log_scale = nn.Parameter(torch.Tensor([0.0]))\n",
    "        #for evaluation purposes\n",
    "        self.test_mse = 1000\n",
    "        \n",
    "    def gaussian_likelihood(self, x_hat, logscale, x):\n",
    "        scale = torch.exp(logscale)\n",
    "        mean = x_hat\n",
    "        dist = torch.distributions.Normal(mean, scale)\n",
    "\n",
    "        # measure prob of seeing data under p(x|z)\n",
    "        log_pxz = dist.log_prob(x)\n",
    "        return log_pxz.sum(dim=1)\n",
    "    \n",
    "    def kl_divergence(self, z, mu, std):\n",
    "        # --------------------------\n",
    "        # Monte carlo KL divergence\n",
    "        # --------------------------\n",
    "        # 1. define the first two probabilities (in this case Normal for both)\n",
    "        p = torch.distributions.Normal(torch.zeros_like(mu), torch.ones_like(std))\n",
    "        q = torch.distributions.Normal(mu, std)\n",
    "\n",
    "        # 2. get the probabilities from the equation\n",
    "        log_qzx = q.log_prob(z)\n",
    "        log_pz = p.log_prob(z)\n",
    "\n",
    "        # kl\n",
    "        kl = (log_qzx - log_pz)\n",
    "        kl = kl.sum(-1)\n",
    "        return kl\n",
    "    \n",
    "    def forward(self, x):\n",
    "        # encode x to get the mu and variance parameters\n",
    "        x_encoded = self.encoder(x)\n",
    "        mu, log_var = self.fc_mu(x_encoded), self.fc_var(x_encoded)\n",
    "\n",
    "        # sample z from q\n",
    "        std = torch.exp(log_var / 2)\n",
    "        \n",
    "        #perform the kernel trick to allow for backprop through sampling\n",
    "        \n",
    "        epsilon = torch.distributions.Normal(0, 1).rsample()\n",
    "        z = mu + epsilon * std\n",
    "        # decoded\n",
    "        ratings = self.decoder(z) * 2\n",
    "        return ratings, z, mu, std\n",
    "    \n",
    "    def vae_loss(self, x_hat, x, z, mu, std):\n",
    "        # reconstruction loss. This is now MSE instead of gaussian likelihood\n",
    "        #indies = x.nonzero().split(1, dim=1)\n",
    "        \n",
    "        #recon_loss = ((x[indies] - x_hat[indies]) ** 2).sum() \n",
    "        recon_loss = mse_loss_fcn(x_hat, x) * 10000#self.gaussian_likelihood(x_hat, self.log_scale, x)\n",
    "        \n",
    "        # kl\n",
    "        kl = self.kl_divergence(z, mu, std)\n",
    "        # elbo\n",
    "        elbo = (kl + recon_loss).mean()\n",
    "\n",
    "        return elbo\n",
    "\n",
    "def train(dataloader, model,  optimizer, epoch):\n",
    "    size = len(dataloader.dataset)\n",
    "    model.train()\n",
    "    for batch, (X,y) in enumerate(dataloader):\n",
    "        X, y = X.to(device).to(torch.float32), y.to(device).to(torch.float32)\n",
    "        \n",
    "        #compute prediction error\n",
    "        pred, z, mu, std = model(X)\n",
    "        loss = model.vae_loss(pred, y, z, mu, std)\n",
    "        mse_loss = mse_loss_fcn(pred, y)\n",
    "        \n",
    "        #Backpropagation\n",
    "        optimizer.zero_grad()\n",
    "        loss.backward()\n",
    "        optimizer.step()\n",
    "        \n",
    "        if epoch % 100 == 0 and batch % 64 == 0:\n",
    "            loss , current = loss.item(), (batch+1) * len(X)\n",
    "            print(\"Epoch : \" + str(epoch))\n",
    "            print(f\"loss: {loss:>7f}\")\n",
    "            print(f\"MSE loss: {mse_loss:>7f}\")\n",
    "            losses.append(loss)\n",
    "            mse_losses.append(mse_loss.item())\n",
    "\n",
    "def test(dataloader, model, epoch):\n",
    "    size = len(dataloader.dataset)\n",
    "    num_batches= len(dataloader)\n",
    "    model.eval()\n",
    "    test_loss, correct, test_mse_loss = 0,0,0\n",
    "    with torch.no_grad():\n",
    "        for X, y in dataloader:\n",
    "            X, y = X.to(device).to(torch.float32), y.to(device).to(torch.float32)\n",
    "            \n",
    "            \n",
    "            pred, z, mu, std = model(X)\n",
    "            test_loss += model.vae_loss(pred, y, z, mu, std).item()\n",
    "            test_mse_loss += mse_loss_fcn(pred, y)\n",
    "    test_loss /= num_batches\n",
    "    test_mse_loss /= num_batches\n",
    "    if epoch % 100 ==0:\n",
    "        test_losses.append(test_loss)\n",
    "        #Come back and actually do the accuracy where it sees if it's at least on the right side of it or compute precision/recall or something like that\n",
    "        print(f\"Test Error: \\n Avg Loss : {test_loss:>8f} \")\n",
    "        print(f\" Test MSE loss: {test_mse_loss:>7f}\")\n",
    "        test_mse_losses.append(test_mse_loss.item())\n",
    "        model.test_mse = test_mse_loss.item()\n",
    "        \n",
    "        \n",
    "        "
   ]
  },
  {
   "cell_type": "markdown",
   "id": "8bf99dfa",
   "metadata": {},
   "source": [
    "## The actual search \n",
    "The following contains all of the logic you need to do to restart everything over so long as you've already loaded the ones above"
   ]
  },
  {
   "cell_type": "code",
   "execution_count": 148,
   "id": "cec19ee9",
   "metadata": {},
   "outputs": [
    {
     "name": "stdout",
     "output_type": "stream",
     "text": [
      "using hyperparameters : 0 , 0\n",
      "Epoch : 0\n",
      "loss: 1677.984253\n",
      "MSE loss: 0.167762\n",
      "Test Error: \n",
      " Avg Loss : 841.477966 \n",
      " Test MSE loss: 0.083582\n",
      "New best using hyper parameters : 1.3 ,0 ,0\n",
      "Epoch : 100\n",
      "loss: 564.501709\n",
      "MSE loss: 0.049036\n",
      "Test Error: \n",
      " Avg Loss : 541.203369 \n",
      " Test MSE loss: 0.063605\n",
      "New best using hyper parameters : 1.3 ,0 ,0\n",
      "Epoch : 200\n",
      "loss: 331.785950\n",
      "MSE loss: 0.029802\n",
      "Test Error: \n",
      " Avg Loss : 638.581482 \n",
      " Test MSE loss: 0.061719\n",
      "New best using hyper parameters : 1.3 ,0 ,0\n",
      "Epoch : 300\n",
      "loss: 283.131073\n",
      "MSE loss: 0.018463\n",
      "Test Error: \n",
      " Avg Loss : 599.761658 \n",
      " Test MSE loss: 0.054042\n",
      "New best using hyper parameters : 1.3 ,0 ,0\n",
      "Epoch : 400\n",
      "loss: 154.640137\n",
      "MSE loss: 0.023778\n",
      "Test Error: \n",
      " Avg Loss : 581.161560 \n",
      " Test MSE loss: 0.054158\n",
      "Epoch : 500\n",
      "loss: 179.367706\n",
      "MSE loss: 0.013317\n",
      "Test Error: \n",
      " Avg Loss : 582.132202 \n",
      " Test MSE loss: 0.054019\n",
      "New best using hyper parameters : 1.3 ,0 ,0\n",
      "Epoch : 600\n",
      "loss: 128.329926\n",
      "MSE loss: 0.010426\n",
      "Test Error: \n",
      " Avg Loss : 583.815613 \n",
      " Test MSE loss: 0.054235\n",
      "Epoch : 700\n",
      "loss: 163.076355\n",
      "MSE loss: 0.010102\n",
      "Test Error: \n",
      " Avg Loss : 582.224609 \n",
      " Test MSE loss: 0.057966\n",
      "Epoch : 800\n",
      "loss: 115.932709\n",
      "MSE loss: 0.009275\n",
      "Test Error: \n",
      " Avg Loss : 552.823792 \n",
      " Test MSE loss: 0.055005\n",
      "Epoch : 900\n",
      "loss: 145.014008\n",
      "MSE loss: 0.010006\n",
      "Test Error: \n",
      " Avg Loss : 556.240906 \n",
      " Test MSE loss: 0.057424\n",
      "Epoch : 1000\n",
      "loss: 101.220078\n",
      "MSE loss: 0.008620\n",
      "Test Error: \n",
      " Avg Loss : 599.412476 \n",
      " Test MSE loss: 0.058851\n",
      "Epoch : 1100\n",
      "loss: 99.055664\n",
      "MSE loss: 0.005980\n",
      "Test Error: \n",
      " Avg Loss : 549.419922 \n",
      " Test MSE loss: 0.056209\n",
      "Epoch : 1200\n",
      "loss: 146.149200\n",
      "MSE loss: 0.011640\n",
      "Test Error: \n",
      " Avg Loss : 682.974182 \n",
      " Test MSE loss: 0.068506\n",
      "Epoch : 1300\n",
      "loss: 86.341034\n",
      "MSE loss: 0.005772\n",
      "Test Error: \n",
      " Avg Loss : 556.634827 \n",
      " Test MSE loss: 0.056788\n",
      "Epoch : 1400\n",
      "loss: 90.949860\n",
      "MSE loss: 0.005043\n",
      "Test Error: \n",
      " Avg Loss : 582.731506 \n",
      " Test MSE loss: 0.056565\n",
      "Epoch : 1500\n",
      "loss: 64.145691\n",
      "MSE loss: 0.004713\n",
      "Test Error: \n",
      " Avg Loss : 586.460144 \n",
      " Test MSE loss: 0.056432\n",
      "Epoch : 1600\n",
      "loss: 155.042816\n",
      "MSE loss: 0.009150\n",
      "Test Error: \n",
      " Avg Loss : 637.495544 \n",
      " Test MSE loss: 0.060121\n",
      "Epoch : 1700\n",
      "loss: 28.512032\n",
      "MSE loss: 0.004100\n",
      "Test Error: \n",
      " Avg Loss : 611.616943 \n",
      " Test MSE loss: 0.057579\n",
      "Epoch : 1800\n",
      "loss: 104.430580\n",
      "MSE loss: 0.004288\n",
      "Test Error: \n",
      " Avg Loss : 593.367188 \n",
      " Test MSE loss: 0.058110\n",
      "Epoch : 1900\n",
      "loss: 72.844482\n",
      "MSE loss: 0.004152\n",
      "Test Error: \n",
      " Avg Loss : 592.848572 \n",
      " Test MSE loss: 0.058412\n"
     ]
    }
   ],
   "source": [
    "epochs = 2000\n",
    "lowest_test_mse_score = 1000\n",
    "mask_magnitude = 1.3\n",
    "#Search \n",
    "l2_weight = 0\n",
    "dropout_rate = 0\n",
    "random_mask = np.clip((np.random.randn(1682) + mask_magnitude).round(), a_max = 1, a_min = 0)\n",
    "print(\"using hyperparameters : \" + str( l2_weight) + \" , \" + str(dropout_rate))\n",
    "train_dataset = MovielensDataset(user_ratings[:843], mask_magnitude)\n",
    "test_dataset = MovielensDataset(user_ratings[843:], mask_magnitude)\n",
    "train_dataloader = DataLoader(train_dataset, batch_size=64, shuffle=True)\n",
    "test_dataloader = DataLoader(test_dataset, batch_size=100, shuffle=True)\n",
    "\n",
    "\n",
    "losses = []\n",
    "mse_losses = []    \n",
    "test_losses = []\n",
    "test_mse_losses = []\n",
    "\n",
    "model = VariationalAutoEncoder(dropout_rate = dropout_rate).to(device)\n",
    "optimizer = torch.optim.Adam(model.parameters(), lr = 1e-4, weight_decay = l2_weight)\n",
    "mse_loss_fcn = nn.MSELoss()\n",
    "\n",
    "for t in range(epochs):\n",
    "    train(train_dataloader, model,  optimizer, t)\n",
    "    test(test_dataloader, model, t )\n",
    "    if t % 100 == 0:\n",
    "        if model.test_mse < lowest_test_mse_score:\n",
    "            lowest_test_mse_score = model.test_mse\n",
    "            torch.save(model.state_dict(), \"./models/best.pth\")\n",
    "            print(\"New best using hyper parameters : \" + str(mask_magnitude) + \" ,\" + str(l2_weight) + \" ,\" + str(dropout_rate)  )"
   ]
  },
  {
   "cell_type": "code",
   "execution_count": 149,
   "id": "37caa81b",
   "metadata": {},
   "outputs": [
    {
     "data": {
      "text/plain": [
       "[<matplotlib.lines.Line2D at 0x1c54db4cac0>]"
      ]
     },
     "execution_count": 149,
     "metadata": {},
     "output_type": "execute_result"
    },
    {
     "data": {
      "image/png": "[encoded data removed]",
      "text/plain": [
       "<Figure size 640x480 with 1 Axes>"
      ]
     },
     "metadata": {},
     "output_type": "display_data"
    }
   ],
   "source": [
    "import matplotlib.pyplot as plt\n",
    "plt.plot(np.arange(len(losses)) * 100, losses)\n",
    "plt.plot(np.arange(len(test_losses)) * 100, test_losses)"
   ]
  },
  {
   "cell_type": "code",
   "execution_count": 150,
   "id": "91332c3d",
   "metadata": {},
   "outputs": [
    {
     "data": {
      "text/plain": [
       "[<matplotlib.lines.Line2D at 0x1c54da0bc70>]"
      ]
     },
     "execution_count": 150,
     "metadata": {},
     "output_type": "execute_result"
    },
    {
     "data": {
      "image/png": "[encoded data removed]",
      "text/plain": [
       "<Figure size 640x480 with 1 Axes>"
      ]
     },
     "metadata": {},
     "output_type": "display_data"
    }
   ],
   "source": [
    "plt.plot(np.arange(len(mse_losses)) * 100, np.sqrt(np.array(mse_losses)))\n",
    "plt.plot(np.arange(len(test_mse_losses)) * 100, np.sqrt(np.array(test_mse_losses)))"
   ]
  },
  {
   "cell_type": "markdown",
   "id": "f6d7e865",
   "metadata": {},
   "source": [
    "# Calculate Precision and Recall"
   ]
  },
  {
   "cell_type": "code",
   "execution_count": 152,
   "id": "bbe48a7b",
   "metadata": {},
   "outputs": [
    {
     "data": {
      "text/plain": [
       "(0.600154231733179, 0.6072961373390557, 0.6037040628333171, None)"
      ]
     },
     "execution_count": 152,
     "metadata": {},
     "output_type": "execute_result"
    }
   ],
   "source": [
    "model = VariationalAutoEncoder(dropout_rate = 0).to(device)\n",
    "model.load_state_dict(torch.load(\"./models/best.pth\"))\n",
    "model.eval()\n",
    "relevance_labels = user_ratings[843:] > 0.5\n",
    "#To evaluate for comparison to other papers we mask by setting 20% of labels to false \n",
    "test_inputs = np.clip((np.random.randn(1682) + 1.35).round(), a_max = 1, a_min = 0) * user_ratings[843:]\n",
    "test_preds = model(torch.tensor(test_inputs).to(\"cuda\").to(torch.float32))[0] > 0.4\n",
    "\n",
    "precision_recall_fscore_support(relevance_labels.flatten(), test_preds.cpu().flatten(), average=\"binary\")"
   ]
  },
  {
   "cell_type": "markdown",
   "id": "9a9cf130",
   "metadata": {},
   "source": [
    "# Calculate RMSE"
   ]
  },
  {
   "cell_type": "code",
   "execution_count": 173,
   "id": "549cf4f1",
   "metadata": {
    "scrolled": true
   },
   "outputs": [
    {
     "data": {
      "text/plain": [
       "tensor(0.9481, device='cuda:0', dtype=torch.float64, grad_fn=<SqrtBackward0>)"
      ]
     },
     "execution_count": 173,
     "metadata": {},
     "output_type": "execute_result"
    }
   ],
   "source": [
    "nonzero_indices = torch.tensor(test_inputs).to(\"cuda\").nonzero().split( 1, dim=1)\n",
    "torch.sqrt(((torch.tensor(test_inputs).to(\"cuda\")[nonzero_indices] - model(torch.tensor(test_inputs).to(\"cuda\").to(torch.float32))[0][nonzero_indices]) ** 2).mean())"
   ]
  },
  {
   "cell_type": "markdown",
   "id": "648bdefd",
   "metadata": {},
   "source": [
    "## Conclusion:\n",
    "The result is that I was, in fact, mistaken and that the MSE was less suited to the task than the usual Gaussian Likelihood"
   ]
  },
  {
   "cell_type": "code",
   "execution_count": 153,
   "id": "22542451",
   "metadata": {},
   "outputs": [
    {
     "data": {
      "text/plain": [
       "(array([0.0000e+00, 2.4000e+01, 3.4000e+01, 1.2238e+04, 6.6582e+04,\n",
       "        6.8248e+04, 1.9639e+04, 5.7600e+02, 8.4400e+02, 1.5000e+01]),\n",
       " array([-2.1, -1.9, -1.1, -0.9, -0.1,  0. ,  0.1,  0.9,  1.1,  1.9,  2.1]),\n",
       " <BarContainer object of 10 artists>)"
      ]
     },
     "execution_count": 153,
     "metadata": {},
     "output_type": "execute_result"
    },
    {
     "data": {
      "image/png": "[encoded data removed]",
      "text/plain": [
       "<Figure size 640x480 with 1 Axes>"
      ]
     },
     "metadata": {},
     "output_type": "display_data"
    }
   ],
   "source": [
    "import matplotlib.pyplot as plt\n",
    "plt.hist(model(torch.tensor(test_inputs).to(\"cuda\").to(torch.float32))[0].cpu().detach().numpy().flatten(), bins = [-2.1, -1.9, -1.1, -0.9, -.1, 0, .1, .9, 1.1, 1.9, 2.1])"
   ]
  },
  {
   "cell_type": "code",
   "execution_count": 154,
   "id": "7e7aa2d8",
   "metadata": {},
   "outputs": [
    {
     "data": {
      "text/plain": [
       "(array([   486.,      0.,    887.,      0.,      0., 162715.,      0.,\n",
       "          2664.,      0.,   1448.]),\n",
       " array([-2.1, -1.9, -1.1, -0.9, -0.1,  0. ,  0.1,  0.9,  1.1,  1.9,  2.1]),\n",
       " <BarContainer object of 10 artists>)"
      ]
     },
     "execution_count": 154,
     "metadata": {},
     "output_type": "execute_result"
    },
    {
     "data": {
      "image/png": "[encoded data removed]",
      "text/plain": [
       "<Figure size 640x480 with 1 Axes>"
      ]
     },
     "metadata": {},
     "output_type": "display_data"
    }
   ],
   "source": [
    "plt.hist(test_inputs.flatten(), bins = [-2.1, -1.9, -1.1, -0.9, -.1, 0, .1, .9, 1.1, 1.9, 2.1])"
   ]
  },
  {
   "cell_type": "code",
   "execution_count": null,
   "id": "c6c95734",
   "metadata": {},
   "outputs": [],
   "source": []
  },
  {
   "cell_type": "code",
   "execution_count": null,
   "id": "7fc15f2a",
   "metadata": {},
   "outputs": [],
   "source": []
  }
 ],
 "metadata": {
  "kernelspec": {
   "display_name": "Python 3 (ipykernel)",
   "language": "python",
   "name": "python3"
  },
  "language_info": {
   "codemirror_mode": {
    "name": "ipython",
    "version": 3
   },
   "file_extension": ".py",
   "mimetype": "text/x-python",
   "name": "python",
   "nbconvert_exporter": "python",
   "pygments_lexer": "ipython3",
   "version": "3.9.7"
  }
 },
 "nbformat": 4,
 "nbformat_minor": 5
}
